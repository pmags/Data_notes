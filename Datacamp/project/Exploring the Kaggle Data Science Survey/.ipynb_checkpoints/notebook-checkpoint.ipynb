{
 "cells": [
  {
   "cell_type": "markdown",
   "metadata": {
    "dc": {
     "key": "3"
    },
    "deletable": false,
    "editable": false,
    "run_control": {
     "frozen": true
    },
    "tags": [
     "context"
    ]
   },
   "source": [
    "## 1. Welcome to the world of data science\n",
    "<p>Throughout the world of data science, there are many languages and tools that can be used to complete a given task. While you are often able to use whichever tool you prefer, it is often important for analysts to work with similar platforms so that they can share their code with one another. Learning what professionals in the data science industry use while at work can help you gain a better understanding of things that you may be asked to do in the future. </p>\n",
    "<p>In this project, we are going to find out what tools and languages professionals use in their day-to-day work. Our data comes from the <a href=\"https://www.kaggle.com/kaggle/kaggle-survey-2017?utm_medium=partner&utm_source=datacamp.com&utm_campaign=ml+survey+case+study\">Kaggle Data Science Survey</a> which includes responses from over 10,000 people that write code to analyze data in their daily work. </p>"
   ]
  },
  {
   "cell_type": "code",
   "execution_count": 2,
   "metadata": {
    "dc": {
     "key": "3"
    },
    "tags": [
     "sample_code"
    ]
   },
   "outputs": [
    {
     "name": "stderr",
     "output_type": "stream",
     "text": [
      "-- Attaching packages --------------------------------------- tidyverse 1.2.0 --\n",
      "<U+221A> ggplot2 3.0.0     <U+221A> purrr   0.2.5\n",
      "<U+221A> tibble  1.4.2     <U+221A> dplyr   0.7.6\n",
      "<U+221A> tidyr   0.8.1     <U+221A> stringr 1.3.1\n",
      "<U+221A> readr   1.1.1     <U+221A> forcats 0.3.0\n",
      "-- Conflicts ------------------------------------------ tidyverse_conflicts() --\n",
      "x dplyr::filter() masks stats::filter()\n",
      "x dplyr::lag()    masks stats::lag()\n",
      "Parsed with column specification:\n",
      "cols(\n",
      "  Respondent = col_integer(),\n",
      "  WorkToolsSelect = col_character(),\n",
      "  LanguageRecommendationSelect = col_character(),\n",
      "  EmployerIndustry = col_character(),\n",
      "  WorkAlgorithmsSelect = col_character()\n",
      ")\n"
     ]
    },
    {
     "data": {
      "text/html": [
       "<table>\n",
       "<thead><tr><th scope=col>Respondent</th><th scope=col>WorkToolsSelect</th><th scope=col>LanguageRecommendationSelect</th><th scope=col>EmployerIndustry</th><th scope=col>WorkAlgorithmsSelect</th></tr></thead>\n",
       "<tbody>\n",
       "\t<tr><td> 1                                                                                                                                                                                                                 </td><td>Amazon Web services,Oracle Data Mining/ Oracle R Enterprise,Perl                                                                                                                                                   </td><td>F#                                                                                                                                                                                                                 </td><td>Internet-based                                                                                                                                                                                                     </td><td>Neural Networks,Random Forests,RNNs                                                                                                                                                                                </td></tr>\n",
       "\t<tr><td> 2                                                                                                                                                                                                                 </td><td>Amazon Machine Learning,Amazon Web services,Cloudera,Hadoop/Hive/Pig,Impala,Java,Mathematica,MATLAB/Octave,Microsoft Excel Data Mining,Microsoft SQL Server Data Mining,NoSQL,Python,R,SAS Base,SAS JMP,SQL,Tableau</td><td>Python                                                                                                                                                                                                             </td><td>Mix of fields                                                                                                                                                                                                      </td><td>Bayesian Techniques,Decision Trees,Random Forests,Regression/Logistic Regression                                                                                                                                   </td></tr>\n",
       "\t<tr><td> 3                                                                                                                                                                                                                 </td><td>C/C++,Jupyter notebooks,MATLAB/Octave,Python,R,TensorFlow                                                                                                                                                          </td><td>Python                                                                                                                                                                                                             </td><td>Technology                                                                                                                                                                                                         </td><td>Bayesian Techniques,CNNs,Ensemble Methods,Neural Networks,Regression/Logistic Regression,SVMs                                                                                                                      </td></tr>\n",
       "\t<tr><td> 4                                                                                                                                                                                                                 </td><td>Jupyter notebooks,Python,SQL,TensorFlow                                                                                                                                                                            </td><td>Python                                                                                                                                                                                                             </td><td>Academic                                                                                                                                                                                                           </td><td>Bayesian Techniques,CNNs,Decision Trees,Gradient Boosted Machines,Neural Networks,Random Forests,Regression/Logistic Regression                                                                                    </td></tr>\n",
       "\t<tr><td> 5                                                                                                                                                                                                                 </td><td>C/C++,Cloudera,Hadoop/Hive/Pig,Java,NoSQL,R,Unix shell / awk                                                                                                                                                       </td><td>R                                                                                                                                                                                                                  </td><td>Government                                                                                                                                                                                                         </td><td>NA                                                                                                                                                                                                                 </td></tr>\n",
       "\t<tr><td> 6                                                                                                                                                                                                                 </td><td>SQL                                                                                                                                                                                                                </td><td>Python                                                                                                                                                                                                             </td><td>Non-profit                                                                                                                                                                                                         </td><td>NA                                                                                                                                                                                                                 </td></tr>\n",
       "\t<tr><td> 7                                                                                                                                                                                                                 </td><td>Jupyter notebooks,NoSQL,Python,R,SQL,Unix shell / awk                                                                                                                                                              </td><td>Python                                                                                                                                                                                                             </td><td>Internet-based                                                                                                                                                                                                     </td><td>CNNs,Decision Trees,Gradient Boosted Machines,Random Forests,Regression/Logistic Regression,SVMs                                                                                                                   </td></tr>\n",
       "\t<tr><td> 8                                                                                                                                                                                                                 </td><td>Python,Spark / MLlib,Tableau,TensorFlow,Other                                                                                                                                                                      </td><td>Python                                                                                                                                                                                                             </td><td>Mix of fields                                                                                                                                                                                                      </td><td>Bayesian Techniques,CNNs,HMMs,Neural Networks,Random Forests,Regression/Logistic Regression,SVMs                                                                                                                   </td></tr>\n",
       "\t<tr><td> 9                                                                                                                                                                                                                 </td><td>Jupyter notebooks,MATLAB/Octave,Python,SAS Base,SQL                                                                                                                                                                </td><td>Python                                                                                                                                                                                                             </td><td>Financial                                                                                                                                                                                                          </td><td>Ensemble Methods,Gradient Boosted Machines                                                                                                                                                                         </td></tr>\n",
       "\t<tr><td>10                                                                                                                                                                                                                 </td><td>C/C++,IBM Cognos,MATLAB/Octave,Microsoft Excel Data Mining,Microsoft R Server (Formerly Revolution Analytics),Microsoft SQL Server Data Mining,Perl,Python,R,SQL,Unix shell / awk                                  </td><td>R                                                                                                                                                                                                                  </td><td>Technology                                                                                                                                                                                                         </td><td>Bayesian Techniques,Regression/Logistic Regression                                                                                                                                                                 </td></tr>\n",
       "</tbody>\n",
       "</table>\n"
      ],
      "text/latex": [
       "\\begin{tabular}{r|lllll}\n",
       " Respondent & WorkToolsSelect & LanguageRecommendationSelect & EmployerIndustry & WorkAlgorithmsSelect\\\\\n",
       "\\hline\n",
       "\t  1                                                                                                                                                                                                                  & Amazon Web services,Oracle Data Mining/ Oracle R Enterprise,Perl                                                                                                                                                    & F\\#                                                                                                                                                                                                                & Internet-based                                                                                                                                                                                                      & Neural Networks,Random Forests,RNNs                                                                                                                                                                                \\\\\n",
       "\t  2                                                                                                                                                                                                                  & Amazon Machine Learning,Amazon Web services,Cloudera,Hadoop/Hive/Pig,Impala,Java,Mathematica,MATLAB/Octave,Microsoft Excel Data Mining,Microsoft SQL Server Data Mining,NoSQL,Python,R,SAS Base,SAS JMP,SQL,Tableau & Python                                                                                                                                                                                                              & Mix of fields                                                                                                                                                                                                       & Bayesian Techniques,Decision Trees,Random Forests,Regression/Logistic Regression                                                                                                                                   \\\\\n",
       "\t  3                                                                                                                                                                                                                  & C/C++,Jupyter notebooks,MATLAB/Octave,Python,R,TensorFlow                                                                                                                                                           & Python                                                                                                                                                                                                              & Technology                                                                                                                                                                                                          & Bayesian Techniques,CNNs,Ensemble Methods,Neural Networks,Regression/Logistic Regression,SVMs                                                                                                                      \\\\\n",
       "\t  4                                                                                                                                                                                                                  & Jupyter notebooks,Python,SQL,TensorFlow                                                                                                                                                                             & Python                                                                                                                                                                                                              & Academic                                                                                                                                                                                                            & Bayesian Techniques,CNNs,Decision Trees,Gradient Boosted Machines,Neural Networks,Random Forests,Regression/Logistic Regression                                                                                    \\\\\n",
       "\t  5                                                                                                                                                                                                                  & C/C++,Cloudera,Hadoop/Hive/Pig,Java,NoSQL,R,Unix shell / awk                                                                                                                                                        & R                                                                                                                                                                                                                   & Government                                                                                                                                                                                                          & NA                                                                                                                                                                                                                 \\\\\n",
       "\t  6                                                                                                                                                                                                                  & SQL                                                                                                                                                                                                                 & Python                                                                                                                                                                                                              & Non-profit                                                                                                                                                                                                          & NA                                                                                                                                                                                                                 \\\\\n",
       "\t  7                                                                                                                                                                                                                  & Jupyter notebooks,NoSQL,Python,R,SQL,Unix shell / awk                                                                                                                                                               & Python                                                                                                                                                                                                              & Internet-based                                                                                                                                                                                                      & CNNs,Decision Trees,Gradient Boosted Machines,Random Forests,Regression/Logistic Regression,SVMs                                                                                                                   \\\\\n",
       "\t  8                                                                                                                                                                                                                  & Python,Spark / MLlib,Tableau,TensorFlow,Other                                                                                                                                                                       & Python                                                                                                                                                                                                              & Mix of fields                                                                                                                                                                                                       & Bayesian Techniques,CNNs,HMMs,Neural Networks,Random Forests,Regression/Logistic Regression,SVMs                                                                                                                   \\\\\n",
       "\t  9                                                                                                                                                                                                                  & Jupyter notebooks,MATLAB/Octave,Python,SAS Base,SQL                                                                                                                                                                 & Python                                                                                                                                                                                                              & Financial                                                                                                                                                                                                           & Ensemble Methods,Gradient Boosted Machines                                                                                                                                                                         \\\\\n",
       "\t 10                                                                                                                                                                                                                  & C/C++,IBM Cognos,MATLAB/Octave,Microsoft Excel Data Mining,Microsoft R Server (Formerly Revolution Analytics),Microsoft SQL Server Data Mining,Perl,Python,R,SQL,Unix shell / awk                                   & R                                                                                                                                                                                                                   & Technology                                                                                                                                                                                                          & Bayesian Techniques,Regression/Logistic Regression                                                                                                                                                                 \\\\\n",
       "\\end{tabular}\n"
      ],
      "text/markdown": [
       "\n",
       "Respondent | WorkToolsSelect | LanguageRecommendationSelect | EmployerIndustry | WorkAlgorithmsSelect | \n",
       "|---|---|---|---|---|---|---|---|---|---|\n",
       "|  1                                                                                                                                                                                                                  | Amazon Web services,Oracle Data Mining/ Oracle R Enterprise,Perl                                                                                                                                                    | F#                                                                                                                                                                                                                  | Internet-based                                                                                                                                                                                                      | Neural Networks,Random Forests,RNNs                                                                                                                                                                                 | \n",
       "|  2                                                                                                                                                                                                                  | Amazon Machine Learning,Amazon Web services,Cloudera,Hadoop/Hive/Pig,Impala,Java,Mathematica,MATLAB/Octave,Microsoft Excel Data Mining,Microsoft SQL Server Data Mining,NoSQL,Python,R,SAS Base,SAS JMP,SQL,Tableau | Python                                                                                                                                                                                                              | Mix of fields                                                                                                                                                                                                       | Bayesian Techniques,Decision Trees,Random Forests,Regression/Logistic Regression                                                                                                                                    | \n",
       "|  3                                                                                                                                                                                                                  | C/C++,Jupyter notebooks,MATLAB/Octave,Python,R,TensorFlow                                                                                                                                                           | Python                                                                                                                                                                                                              | Technology                                                                                                                                                                                                          | Bayesian Techniques,CNNs,Ensemble Methods,Neural Networks,Regression/Logistic Regression,SVMs                                                                                                                       | \n",
       "|  4                                                                                                                                                                                                                  | Jupyter notebooks,Python,SQL,TensorFlow                                                                                                                                                                             | Python                                                                                                                                                                                                              | Academic                                                                                                                                                                                                            | Bayesian Techniques,CNNs,Decision Trees,Gradient Boosted Machines,Neural Networks,Random Forests,Regression/Logistic Regression                                                                                     | \n",
       "|  5                                                                                                                                                                                                                  | C/C++,Cloudera,Hadoop/Hive/Pig,Java,NoSQL,R,Unix shell / awk                                                                                                                                                        | R                                                                                                                                                                                                                   | Government                                                                                                                                                                                                          | NA                                                                                                                                                                                                                  | \n",
       "|  6                                                                                                                                                                                                                  | SQL                                                                                                                                                                                                                 | Python                                                                                                                                                                                                              | Non-profit                                                                                                                                                                                                          | NA                                                                                                                                                                                                                  | \n",
       "|  7                                                                                                                                                                                                                  | Jupyter notebooks,NoSQL,Python,R,SQL,Unix shell / awk                                                                                                                                                               | Python                                                                                                                                                                                                              | Internet-based                                                                                                                                                                                                      | CNNs,Decision Trees,Gradient Boosted Machines,Random Forests,Regression/Logistic Regression,SVMs                                                                                                                    | \n",
       "|  8                                                                                                                                                                                                                  | Python,Spark / MLlib,Tableau,TensorFlow,Other                                                                                                                                                                       | Python                                                                                                                                                                                                              | Mix of fields                                                                                                                                                                                                       | Bayesian Techniques,CNNs,HMMs,Neural Networks,Random Forests,Regression/Logistic Regression,SVMs                                                                                                                    | \n",
       "|  9                                                                                                                                                                                                                  | Jupyter notebooks,MATLAB/Octave,Python,SAS Base,SQL                                                                                                                                                                 | Python                                                                                                                                                                                                              | Financial                                                                                                                                                                                                           | Ensemble Methods,Gradient Boosted Machines                                                                                                                                                                          | \n",
       "| 10                                                                                                                                                                                                                  | C/C++,IBM Cognos,MATLAB/Octave,Microsoft Excel Data Mining,Microsoft R Server (Formerly Revolution Analytics),Microsoft SQL Server Data Mining,Perl,Python,R,SQL,Unix shell / awk                                   | R                                                                                                                                                                                                                   | Technology                                                                                                                                                                                                          | Bayesian Techniques,Regression/Logistic Regression                                                                                                                                                                  | \n",
       "\n",
       "\n"
      ],
      "text/plain": [
       "   Respondent\n",
       "1   1        \n",
       "2   2        \n",
       "3   3        \n",
       "4   4        \n",
       "5   5        \n",
       "6   6        \n",
       "7   7        \n",
       "8   8        \n",
       "9   9        \n",
       "10 10        \n",
       "   WorkToolsSelect                                                                                                                                                                                                    \n",
       "1  Amazon Web services,Oracle Data Mining/ Oracle R Enterprise,Perl                                                                                                                                                   \n",
       "2  Amazon Machine Learning,Amazon Web services,Cloudera,Hadoop/Hive/Pig,Impala,Java,Mathematica,MATLAB/Octave,Microsoft Excel Data Mining,Microsoft SQL Server Data Mining,NoSQL,Python,R,SAS Base,SAS JMP,SQL,Tableau\n",
       "3  C/C++,Jupyter notebooks,MATLAB/Octave,Python,R,TensorFlow                                                                                                                                                          \n",
       "4  Jupyter notebooks,Python,SQL,TensorFlow                                                                                                                                                                            \n",
       "5  C/C++,Cloudera,Hadoop/Hive/Pig,Java,NoSQL,R,Unix shell / awk                                                                                                                                                       \n",
       "6  SQL                                                                                                                                                                                                                \n",
       "7  Jupyter notebooks,NoSQL,Python,R,SQL,Unix shell / awk                                                                                                                                                              \n",
       "8  Python,Spark / MLlib,Tableau,TensorFlow,Other                                                                                                                                                                      \n",
       "9  Jupyter notebooks,MATLAB/Octave,Python,SAS Base,SQL                                                                                                                                                                \n",
       "10 C/C++,IBM Cognos,MATLAB/Octave,Microsoft Excel Data Mining,Microsoft R Server (Formerly Revolution Analytics),Microsoft SQL Server Data Mining,Perl,Python,R,SQL,Unix shell / awk                                  \n",
       "   LanguageRecommendationSelect EmployerIndustry\n",
       "1  F#                           Internet-based  \n",
       "2  Python                       Mix of fields   \n",
       "3  Python                       Technology      \n",
       "4  Python                       Academic        \n",
       "5  R                            Government      \n",
       "6  Python                       Non-profit      \n",
       "7  Python                       Internet-based  \n",
       "8  Python                       Mix of fields   \n",
       "9  Python                       Financial       \n",
       "10 R                            Technology      \n",
       "   WorkAlgorithmsSelect                                                                                                           \n",
       "1  Neural Networks,Random Forests,RNNs                                                                                            \n",
       "2  Bayesian Techniques,Decision Trees,Random Forests,Regression/Logistic Regression                                               \n",
       "3  Bayesian Techniques,CNNs,Ensemble Methods,Neural Networks,Regression/Logistic Regression,SVMs                                  \n",
       "4  Bayesian Techniques,CNNs,Decision Trees,Gradient Boosted Machines,Neural Networks,Random Forests,Regression/Logistic Regression\n",
       "5  NA                                                                                                                             \n",
       "6  NA                                                                                                                             \n",
       "7  CNNs,Decision Trees,Gradient Boosted Machines,Random Forests,Regression/Logistic Regression,SVMs                               \n",
       "8  Bayesian Techniques,CNNs,HMMs,Neural Networks,Random Forests,Regression/Logistic Regression,SVMs                               \n",
       "9  Ensemble Methods,Gradient Boosted Machines                                                                                     \n",
       "10 Bayesian Techniques,Regression/Logistic Regression                                                                             "
      ]
     },
     "metadata": {},
     "output_type": "display_data"
    }
   ],
   "source": [
    "# Loading necessary packages\n",
    "library(tidyverse)\n",
    "\n",
    "# Loading the data\n",
    "responses <- read_csv(\"datasets/kagglesurvey.csv\")\n",
    "\n",
    "# Printing the first 10 rows\n",
    "head(responses,10)"
   ]
  },
  {
   "cell_type": "markdown",
   "metadata": {
    "dc": {
     "key": "10"
    },
    "deletable": false,
    "editable": false,
    "run_control": {
     "frozen": true
    },
    "tags": [
     "context"
    ]
   },
   "source": [
    "## 2. Using multiple tools\n",
    "<p>Now that we've loaded in the survey results, we want to focus on the tools and languages that the survey respondents use at work. </p>"
   ]
  },
  {
   "cell_type": "code",
   "execution_count": 4,
   "metadata": {
    "dc": {
     "key": "10"
    },
    "tags": [
     "sample_code"
    ]
   },
   "outputs": [
    {
     "data": {
      "text/html": [
       "<table>\n",
       "<thead><tr><th scope=col>WorkToolsSelect</th></tr></thead>\n",
       "<tbody>\n",
       "\t<tr><td>Amazon Web services,Oracle Data Mining/ Oracle R Enterprise,Perl</td></tr>\n",
       "</tbody>\n",
       "</table>\n"
      ],
      "text/latex": [
       "\\begin{tabular}{r|l}\n",
       " WorkToolsSelect\\\\\n",
       "\\hline\n",
       "\t Amazon Web services,Oracle Data Mining/ Oracle R Enterprise,Perl\\\\\n",
       "\\end{tabular}\n"
      ],
      "text/markdown": [
       "\n",
       "WorkToolsSelect | \n",
       "|---|\n",
       "| Amazon Web services,Oracle Data Mining/ Oracle R Enterprise,Perl | \n",
       "\n",
       "\n"
      ],
      "text/plain": [
       "  WorkToolsSelect                                                 \n",
       "1 Amazon Web services,Oracle Data Mining/ Oracle R Enterprise,Perl"
      ]
     },
     "metadata": {},
     "output_type": "display_data"
    },
    {
     "data": {
      "text/html": [
       "<table>\n",
       "<thead><tr><th scope=col>Respondent</th><th scope=col>WorkToolsSelect</th><th scope=col>LanguageRecommendationSelect</th><th scope=col>EmployerIndustry</th><th scope=col>WorkAlgorithmsSelect</th><th scope=col>work_tools</th></tr></thead>\n",
       "<tbody>\n",
       "\t<tr><td>1                                                                                                                                                                                                                  </td><td>Amazon Web services,Oracle Data Mining/ Oracle R Enterprise,Perl                                                                                                                                                   </td><td>F#                                                                                                                                                                                                                 </td><td>Internet-based                                                                                                                                                                                                     </td><td>Neural Networks,Random Forests,RNNs                                                                                                                                                                                </td><td>Amazon Web services                                                                                                                                                                                                </td></tr>\n",
       "\t<tr><td>1                                                                                                                                                                                                                  </td><td>Amazon Web services,Oracle Data Mining/ Oracle R Enterprise,Perl                                                                                                                                                   </td><td>F#                                                                                                                                                                                                                 </td><td>Internet-based                                                                                                                                                                                                     </td><td>Neural Networks,Random Forests,RNNs                                                                                                                                                                                </td><td>Oracle Data Mining/ Oracle R Enterprise                                                                                                                                                                            </td></tr>\n",
       "\t<tr><td>1                                                                                                                                                                                                                  </td><td>Amazon Web services,Oracle Data Mining/ Oracle R Enterprise,Perl                                                                                                                                                   </td><td>F#                                                                                                                                                                                                                 </td><td>Internet-based                                                                                                                                                                                                     </td><td>Neural Networks,Random Forests,RNNs                                                                                                                                                                                </td><td>Perl                                                                                                                                                                                                               </td></tr>\n",
       "\t<tr><td>2                                                                                                                                                                                                                  </td><td>Amazon Machine Learning,Amazon Web services,Cloudera,Hadoop/Hive/Pig,Impala,Java,Mathematica,MATLAB/Octave,Microsoft Excel Data Mining,Microsoft SQL Server Data Mining,NoSQL,Python,R,SAS Base,SAS JMP,SQL,Tableau</td><td>Python                                                                                                                                                                                                             </td><td>Mix of fields                                                                                                                                                                                                      </td><td>Bayesian Techniques,Decision Trees,Random Forests,Regression/Logistic Regression                                                                                                                                   </td><td>Amazon Machine Learning                                                                                                                                                                                            </td></tr>\n",
       "\t<tr><td>2                                                                                                                                                                                                                  </td><td>Amazon Machine Learning,Amazon Web services,Cloudera,Hadoop/Hive/Pig,Impala,Java,Mathematica,MATLAB/Octave,Microsoft Excel Data Mining,Microsoft SQL Server Data Mining,NoSQL,Python,R,SAS Base,SAS JMP,SQL,Tableau</td><td>Python                                                                                                                                                                                                             </td><td>Mix of fields                                                                                                                                                                                                      </td><td>Bayesian Techniques,Decision Trees,Random Forests,Regression/Logistic Regression                                                                                                                                   </td><td>Amazon Web services                                                                                                                                                                                                </td></tr>\n",
       "\t<tr><td>2                                                                                                                                                                                                                  </td><td>Amazon Machine Learning,Amazon Web services,Cloudera,Hadoop/Hive/Pig,Impala,Java,Mathematica,MATLAB/Octave,Microsoft Excel Data Mining,Microsoft SQL Server Data Mining,NoSQL,Python,R,SAS Base,SAS JMP,SQL,Tableau</td><td>Python                                                                                                                                                                                                             </td><td>Mix of fields                                                                                                                                                                                                      </td><td>Bayesian Techniques,Decision Trees,Random Forests,Regression/Logistic Regression                                                                                                                                   </td><td>Cloudera                                                                                                                                                                                                           </td></tr>\n",
       "</tbody>\n",
       "</table>\n"
      ],
      "text/latex": [
       "\\begin{tabular}{r|llllll}\n",
       " Respondent & WorkToolsSelect & LanguageRecommendationSelect & EmployerIndustry & WorkAlgorithmsSelect & work\\_tools\\\\\n",
       "\\hline\n",
       "\t 1                                                                                                                                                                                                                   & Amazon Web services,Oracle Data Mining/ Oracle R Enterprise,Perl                                                                                                                                                    & F\\#                                                                                                                                                                                                                & Internet-based                                                                                                                                                                                                      & Neural Networks,Random Forests,RNNs                                                                                                                                                                                 & Amazon Web services                                                                                                                                                                                                \\\\\n",
       "\t 1                                                                                                                                                                                                                   & Amazon Web services,Oracle Data Mining/ Oracle R Enterprise,Perl                                                                                                                                                    & F\\#                                                                                                                                                                                                                & Internet-based                                                                                                                                                                                                      & Neural Networks,Random Forests,RNNs                                                                                                                                                                                 & Oracle Data Mining/ Oracle R Enterprise                                                                                                                                                                            \\\\\n",
       "\t 1                                                                                                                                                                                                                   & Amazon Web services,Oracle Data Mining/ Oracle R Enterprise,Perl                                                                                                                                                    & F\\#                                                                                                                                                                                                                & Internet-based                                                                                                                                                                                                      & Neural Networks,Random Forests,RNNs                                                                                                                                                                                 & Perl                                                                                                                                                                                                               \\\\\n",
       "\t 2                                                                                                                                                                                                                   & Amazon Machine Learning,Amazon Web services,Cloudera,Hadoop/Hive/Pig,Impala,Java,Mathematica,MATLAB/Octave,Microsoft Excel Data Mining,Microsoft SQL Server Data Mining,NoSQL,Python,R,SAS Base,SAS JMP,SQL,Tableau & Python                                                                                                                                                                                                              & Mix of fields                                                                                                                                                                                                       & Bayesian Techniques,Decision Trees,Random Forests,Regression/Logistic Regression                                                                                                                                    & Amazon Machine Learning                                                                                                                                                                                            \\\\\n",
       "\t 2                                                                                                                                                                                                                   & Amazon Machine Learning,Amazon Web services,Cloudera,Hadoop/Hive/Pig,Impala,Java,Mathematica,MATLAB/Octave,Microsoft Excel Data Mining,Microsoft SQL Server Data Mining,NoSQL,Python,R,SAS Base,SAS JMP,SQL,Tableau & Python                                                                                                                                                                                                              & Mix of fields                                                                                                                                                                                                       & Bayesian Techniques,Decision Trees,Random Forests,Regression/Logistic Regression                                                                                                                                    & Amazon Web services                                                                                                                                                                                                \\\\\n",
       "\t 2                                                                                                                                                                                                                   & Amazon Machine Learning,Amazon Web services,Cloudera,Hadoop/Hive/Pig,Impala,Java,Mathematica,MATLAB/Octave,Microsoft Excel Data Mining,Microsoft SQL Server Data Mining,NoSQL,Python,R,SAS Base,SAS JMP,SQL,Tableau & Python                                                                                                                                                                                                              & Mix of fields                                                                                                                                                                                                       & Bayesian Techniques,Decision Trees,Random Forests,Regression/Logistic Regression                                                                                                                                    & Cloudera                                                                                                                                                                                                           \\\\\n",
       "\\end{tabular}\n"
      ],
      "text/markdown": [
       "\n",
       "Respondent | WorkToolsSelect | LanguageRecommendationSelect | EmployerIndustry | WorkAlgorithmsSelect | work_tools | \n",
       "|---|---|---|---|---|---|\n",
       "| 1                                                                                                                                                                                                                   | Amazon Web services,Oracle Data Mining/ Oracle R Enterprise,Perl                                                                                                                                                    | F#                                                                                                                                                                                                                  | Internet-based                                                                                                                                                                                                      | Neural Networks,Random Forests,RNNs                                                                                                                                                                                 | Amazon Web services                                                                                                                                                                                                 | \n",
       "| 1                                                                                                                                                                                                                   | Amazon Web services,Oracle Data Mining/ Oracle R Enterprise,Perl                                                                                                                                                    | F#                                                                                                                                                                                                                  | Internet-based                                                                                                                                                                                                      | Neural Networks,Random Forests,RNNs                                                                                                                                                                                 | Oracle Data Mining/ Oracle R Enterprise                                                                                                                                                                             | \n",
       "| 1                                                                                                                                                                                                                   | Amazon Web services,Oracle Data Mining/ Oracle R Enterprise,Perl                                                                                                                                                    | F#                                                                                                                                                                                                                  | Internet-based                                                                                                                                                                                                      | Neural Networks,Random Forests,RNNs                                                                                                                                                                                 | Perl                                                                                                                                                                                                                | \n",
       "| 2                                                                                                                                                                                                                   | Amazon Machine Learning,Amazon Web services,Cloudera,Hadoop/Hive/Pig,Impala,Java,Mathematica,MATLAB/Octave,Microsoft Excel Data Mining,Microsoft SQL Server Data Mining,NoSQL,Python,R,SAS Base,SAS JMP,SQL,Tableau | Python                                                                                                                                                                                                              | Mix of fields                                                                                                                                                                                                       | Bayesian Techniques,Decision Trees,Random Forests,Regression/Logistic Regression                                                                                                                                    | Amazon Machine Learning                                                                                                                                                                                             | \n",
       "| 2                                                                                                                                                                                                                   | Amazon Machine Learning,Amazon Web services,Cloudera,Hadoop/Hive/Pig,Impala,Java,Mathematica,MATLAB/Octave,Microsoft Excel Data Mining,Microsoft SQL Server Data Mining,NoSQL,Python,R,SAS Base,SAS JMP,SQL,Tableau | Python                                                                                                                                                                                                              | Mix of fields                                                                                                                                                                                                       | Bayesian Techniques,Decision Trees,Random Forests,Regression/Logistic Regression                                                                                                                                    | Amazon Web services                                                                                                                                                                                                 | \n",
       "| 2                                                                                                                                                                                                                   | Amazon Machine Learning,Amazon Web services,Cloudera,Hadoop/Hive/Pig,Impala,Java,Mathematica,MATLAB/Octave,Microsoft Excel Data Mining,Microsoft SQL Server Data Mining,NoSQL,Python,R,SAS Base,SAS JMP,SQL,Tableau | Python                                                                                                                                                                                                              | Mix of fields                                                                                                                                                                                                       | Bayesian Techniques,Decision Trees,Random Forests,Regression/Logistic Regression                                                                                                                                    | Cloudera                                                                                                                                                                                                            | \n",
       "\n",
       "\n"
      ],
      "text/plain": [
       "  Respondent\n",
       "1 1         \n",
       "2 1         \n",
       "3 1         \n",
       "4 2         \n",
       "5 2         \n",
       "6 2         \n",
       "  WorkToolsSelect                                                                                                                                                                                                    \n",
       "1 Amazon Web services,Oracle Data Mining/ Oracle R Enterprise,Perl                                                                                                                                                   \n",
       "2 Amazon Web services,Oracle Data Mining/ Oracle R Enterprise,Perl                                                                                                                                                   \n",
       "3 Amazon Web services,Oracle Data Mining/ Oracle R Enterprise,Perl                                                                                                                                                   \n",
       "4 Amazon Machine Learning,Amazon Web services,Cloudera,Hadoop/Hive/Pig,Impala,Java,Mathematica,MATLAB/Octave,Microsoft Excel Data Mining,Microsoft SQL Server Data Mining,NoSQL,Python,R,SAS Base,SAS JMP,SQL,Tableau\n",
       "5 Amazon Machine Learning,Amazon Web services,Cloudera,Hadoop/Hive/Pig,Impala,Java,Mathematica,MATLAB/Octave,Microsoft Excel Data Mining,Microsoft SQL Server Data Mining,NoSQL,Python,R,SAS Base,SAS JMP,SQL,Tableau\n",
       "6 Amazon Machine Learning,Amazon Web services,Cloudera,Hadoop/Hive/Pig,Impala,Java,Mathematica,MATLAB/Octave,Microsoft Excel Data Mining,Microsoft SQL Server Data Mining,NoSQL,Python,R,SAS Base,SAS JMP,SQL,Tableau\n",
       "  LanguageRecommendationSelect EmployerIndustry\n",
       "1 F#                           Internet-based  \n",
       "2 F#                           Internet-based  \n",
       "3 F#                           Internet-based  \n",
       "4 Python                       Mix of fields   \n",
       "5 Python                       Mix of fields   \n",
       "6 Python                       Mix of fields   \n",
       "  WorkAlgorithmsSelect                                                            \n",
       "1 Neural Networks,Random Forests,RNNs                                             \n",
       "2 Neural Networks,Random Forests,RNNs                                             \n",
       "3 Neural Networks,Random Forests,RNNs                                             \n",
       "4 Bayesian Techniques,Decision Trees,Random Forests,Regression/Logistic Regression\n",
       "5 Bayesian Techniques,Decision Trees,Random Forests,Regression/Logistic Regression\n",
       "6 Bayesian Techniques,Decision Trees,Random Forests,Regression/Logistic Regression\n",
       "  work_tools                             \n",
       "1 Amazon Web services                    \n",
       "2 Oracle Data Mining/ Oracle R Enterprise\n",
       "3 Perl                                   \n",
       "4 Amazon Machine Learning                \n",
       "5 Amazon Web services                    \n",
       "6 Cloudera                               "
      ]
     },
     "metadata": {},
     "output_type": "display_data"
    }
   ],
   "source": [
    "# Printing the first respondents' tools and languages\n",
    "responses[1,2]\n",
    "\n",
    "# Creating a new data frame called tools\n",
    "tools <- responses\n",
    "\n",
    "# Adding a new column to tools which splits the WorkToolsSelect column at the commas and unnests the new column\n",
    "tools <- tools  %>% \n",
    "    mutate(work_tools = strsplit(WorkToolsSelect,\",\")) %>%\n",
    "        unnest(work_tools)\n",
    "\n",
    "\n",
    "# Viewing the first 6 rows of tools\n",
    "head(tools,6)"
   ]
  },
  {
   "cell_type": "markdown",
   "metadata": {
    "dc": {
     "key": "17"
    },
    "deletable": false,
    "editable": false,
    "run_control": {
     "frozen": true
    },
    "tags": [
     "context"
    ]
   },
   "source": [
    "## 3. Counting users of each tool\n",
    "<p>Now that we've split apart all of the tools used by each respondent, we can figure out which tools are the most popular.</p>"
   ]
  },
  {
   "cell_type": "code",
   "execution_count": 6,
   "metadata": {
    "dc": {
     "key": "17"
    },
    "tags": [
     "sample_code"
    ]
   },
   "outputs": [
    {
     "data": {
      "text/html": [
       "<table>\n",
       "<thead><tr><th scope=col>work_tools</th><th scope=col>tool_distinct</th></tr></thead>\n",
       "<tbody>\n",
       "\t<tr><td>Python           </td><td>6073             </td></tr>\n",
       "\t<tr><td>R                </td><td>4708             </td></tr>\n",
       "\t<tr><td>SQL              </td><td>4261             </td></tr>\n",
       "\t<tr><td>Jupyter notebooks</td><td>3206             </td></tr>\n",
       "\t<tr><td>TensorFlow       </td><td>2256             </td></tr>\n",
       "\t<tr><td>NA               </td><td>2198             </td></tr>\n",
       "</tbody>\n",
       "</table>\n"
      ],
      "text/latex": [
       "\\begin{tabular}{r|ll}\n",
       " work\\_tools & tool\\_distinct\\\\\n",
       "\\hline\n",
       "\t Python            & 6073             \\\\\n",
       "\t R                 & 4708             \\\\\n",
       "\t SQL               & 4261             \\\\\n",
       "\t Jupyter notebooks & 3206             \\\\\n",
       "\t TensorFlow        & 2256             \\\\\n",
       "\t NA                & 2198             \\\\\n",
       "\\end{tabular}\n"
      ],
      "text/markdown": [
       "\n",
       "work_tools | tool_distinct | \n",
       "|---|---|---|---|---|---|\n",
       "| Python            | 6073              | \n",
       "| R                 | 4708              | \n",
       "| SQL               | 4261              | \n",
       "| Jupyter notebooks | 3206              | \n",
       "| TensorFlow        | 2256              | \n",
       "| NA                | 2198              | \n",
       "\n",
       "\n"
      ],
      "text/plain": [
       "  work_tools        tool_distinct\n",
       "1 Python            6073         \n",
       "2 R                 4708         \n",
       "3 SQL               4261         \n",
       "4 Jupyter notebooks 3206         \n",
       "5 TensorFlow        2256         \n",
       "6 NA                2198         "
      ]
     },
     "metadata": {},
     "output_type": "display_data"
    }
   ],
   "source": [
    "# Creating a new data frame\n",
    "tool_count <- tools\n",
    "\n",
    "# Grouping the data by work_tools, calculate the number of responses in each group\n",
    "tool_count <- tool_count  %>% \n",
    "    group_by(work_tools)  %>% \n",
    "    summarise(tool_distinct = n())\n",
    "\n",
    "# Sorting tool_count so that the most popular tools are at the top\n",
    "tool_count <- arrange(tool_count,desc(tool_distinct))\n",
    "\n",
    "# Printing the first 6 results\n",
    "head(tool_count,6)"
   ]
  },
  {
   "cell_type": "markdown",
   "metadata": {
    "dc": {
     "key": "24"
    },
    "deletable": false,
    "editable": false,
    "run_control": {
     "frozen": true
    },
    "tags": [
     "context"
    ]
   },
   "source": [
    "## 4. Plotting the most popular tools\n",
    "<p>Let's see how your favorite tools stack up against the rest. </p>"
   ]
  },
  {
   "cell_type": "code",
   "execution_count": 8,
   "metadata": {
    "dc": {
     "key": "24"
    },
    "tags": [
     "sample_code"
    ]
   },
   "outputs": [
    {
     "ename": "ERROR",
     "evalue": "Error in ggplot(....): object '....' not found\n",
     "output_type": "error",
     "traceback": [
      "Error in ggplot(....): object '....' not found\nTraceback:\n",
      "1. ggplot(....)"
     ]
    }
   ],
   "source": [
    "# Creating a bar chart of the work_tools column. \n",
    "# Arranging the bars so that the tallest are on the far right\n",
    "ggplot(....) + \n",
    "    geom_bar(....) +\n",
    "\n",
    "# Rotating the bar labels 90 degrees\n",
    "    theme(....)"
   ]
  },
  {
   "cell_type": "markdown",
   "metadata": {
    "dc": {
     "key": "31"
    },
    "deletable": false,
    "editable": false,
    "run_control": {
     "frozen": true
    },
    "tags": [
     "context"
    ]
   },
   "source": [
    "## 5. The R vs Python debate\n",
    "<p>Within the field of data science, there is a lot of debate among professionals about whether R or Python should reign supreme. You can see from our last figure that R and Python are the two most commonly used languages, but it's possible that many respondents use both R and Python. Let's take a look at how many people use R, Python, and both tools.</p>"
   ]
  },
  {
   "cell_type": "code",
   "execution_count": null,
   "metadata": {
    "collapsed": true,
    "dc": {
     "key": "31"
    },
    "tags": [
     "sample_code"
    ]
   },
   "outputs": [],
   "source": [
    "# Creating a new data frame called debate_tools\n",
    "debate_tools <- ....\n",
    "\n",
    "# Creating a new column called language preference, based on the conditions specified in the Instructions\n",
    "debate_tools <- debate_tools  %>% \n",
    "   mutate(language_preference = ....)\n",
    "\n",
    "# Printing the first 6 rows\n",
    "# .... YOUR CODE FOR TASK 5 ...."
   ]
  },
  {
   "cell_type": "markdown",
   "metadata": {
    "dc": {
     "key": "38"
    },
    "deletable": false,
    "editable": false,
    "run_control": {
     "frozen": true
    },
    "tags": [
     "context"
    ]
   },
   "source": [
    "## 6. Plotting R vs Python users\n",
    "<p>Now we just need to take a closer look at how many respondents use R, Python, and both!</p>"
   ]
  },
  {
   "cell_type": "code",
   "execution_count": null,
   "metadata": {
    "collapsed": true,
    "dc": {
     "key": "38"
    },
    "tags": [
     "sample_code"
    ]
   },
   "outputs": [],
   "source": [
    "# Creating a new data frame\n",
    "debate_plot <- ....\n",
    "\n",
    "# Grouping by language preference and calculate number of responses\n",
    "debate_plot <- debate_plot  %>% \n",
    "   group_by(....)  %>% \n",
    "    ....  %>% \n",
    "\n",
    "# Removing the row for users of \"neither\"\n",
    "    filter(....)\n",
    "\n",
    "# Creating a bar chart\n",
    "# .... YOUR CODE FOR TASK 6 ...."
   ]
  },
  {
   "cell_type": "markdown",
   "metadata": {
    "dc": {
     "key": "45"
    },
    "deletable": false,
    "editable": false,
    "run_control": {
     "frozen": true
    },
    "tags": [
     "context"
    ]
   },
   "source": [
    "## 7. Language recommendations\n",
    "<p>It looks like the largest group of professionals program in both Python and R. But what happens when they are asked which language they recommend to new learners? Do R lovers always recommend R? </p>"
   ]
  },
  {
   "cell_type": "code",
   "execution_count": null,
   "metadata": {
    "collapsed": true,
    "dc": {
     "key": "45"
    },
    "tags": [
     "sample_code"
    ]
   },
   "outputs": [],
   "source": [
    "# Creating a new data frame\n",
    "recommendations <- ....\n",
    "\n",
    "# Grouping by language_preference and then LanguageRecommendationSelect\n",
    "recommendations <- recommendations  %>% \n",
    "    group_by(....)  %>% \n",
    "    ....\n",
    "\n",
    "# Removing empty responses and include the top recommendations\n",
    "# .... YOUR CODE FOR TASK 7 ...."
   ]
  },
  {
   "cell_type": "markdown",
   "metadata": {
    "dc": {
     "key": "52"
    },
    "deletable": false,
    "editable": false,
    "run_control": {
     "frozen": true
    },
    "tags": [
     "context"
    ]
   },
   "source": [
    "## 8. The most recommended language by the language used\n",
    "<p>Just one thing left. Let's graphically determine which languages are most recommended based on the language that a person uses.</p>"
   ]
  },
  {
   "cell_type": "code",
   "execution_count": null,
   "metadata": {
    "collapsed": true,
    "dc": {
     "key": "52"
    },
    "tags": [
     "sample_code"
    ]
   },
   "outputs": [],
   "source": [
    "# Creating a faceted bar plot\n",
    "ggplot(recommendations, ....)"
   ]
  },
  {
   "cell_type": "markdown",
   "metadata": {
    "dc": {
     "key": "59"
    },
    "deletable": false,
    "editable": false,
    "run_control": {
     "frozen": true
    },
    "tags": [
     "context"
    ]
   },
   "source": [
    "## 9. The moral of the story\n",
    "<p>So we've made it to the end. We've found that Python is the most popular language used among Kaggle data scientists, but R users aren't far behind. And while Python users may highly recommend that new learners learn Python, would R users find the following statement <code>TRUE</code> or <code>FALSE</code>? </p>"
   ]
  },
  {
   "cell_type": "code",
   "execution_count": null,
   "metadata": {
    "collapsed": true,
    "dc": {
     "key": "59"
    },
    "tags": [
     "sample_code"
    ]
   },
   "outputs": [],
   "source": [
    "# Would R users find this statement TRUE or FALSE?\n",
    "R_is_number_one = ...."
   ]
  }
 ],
 "metadata": {
  "kernelspec": {
   "display_name": "R",
   "language": "R",
   "name": "ir"
  },
  "language_info": {
   "codemirror_mode": "r",
   "file_extension": ".r",
   "mimetype": "text/x-r-source",
   "name": "R",
   "pygments_lexer": "r",
   "version": "3.4.4"
  }
 },
 "nbformat": 4,
 "nbformat_minor": 2
}
