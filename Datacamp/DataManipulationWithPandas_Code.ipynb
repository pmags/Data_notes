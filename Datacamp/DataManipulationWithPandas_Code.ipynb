{
 "metadata": {
  "language_info": {
   "codemirror_mode": {
    "name": "ipython",
    "version": 3
   },
   "file_extension": ".py",
   "mimetype": "text/x-python",
   "name": "python",
   "nbconvert_exporter": "python",
   "pygments_lexer": "ipython3",
   "version": 3
  },
  "orig_nbformat": 2,
  "kernelspec": {
   "name": "python_defaultSpec_1597223108470",
   "display_name": "Python 3.7.6 64-bit ('dataCampStudy': conda)"
  }
 },
 "nbformat": 4,
 "nbformat_minor": 2,
 "cells": [
  {
   "cell_type": "markdown",
   "metadata": {},
   "source": [
    "# Data Manipulation with Pandas (Code companion)"
   ]
  },
  {
   "cell_type": "code",
   "execution_count": 2,
   "metadata": {
    "tags": []
   },
   "outputs": [
    {
     "output_type": "stream",
     "name": "stdout",
     "text": "Year State CoC Number       CoC Name  \\\n0  1/1/2007    AK     AK-500  Anchorage CoC   \n1  1/1/2007    AK     AK-500  Anchorage CoC   \n2  1/1/2007    AK     AK-500  Anchorage CoC   \n3  1/1/2007    AK     AK-500  Anchorage CoC   \n4  1/1/2007    AK     AK-500  Anchorage CoC   \n\n                                     Measures Count  \n0            Chronically Homeless Individuals   224  \n1                        Homeless Individuals   696  \n2                 Homeless People in Families   278  \n3  Sheltered Chronically Homeless Individuals   187  \n4                          Sheltered Homeless   842  \n<class 'pandas.core.frame.DataFrame'>\nRangeIndex: 86529 entries, 0 to 86528\nData columns (total 6 columns):\n #   Column      Non-Null Count  Dtype \n---  ------      --------------  ----- \n 0   Year        86529 non-null  object\n 1   State       86529 non-null  object\n 2   CoC Number  86529 non-null  object\n 3   CoC Name    86529 non-null  object\n 4   Measures    86529 non-null  object\n 5   Count       86529 non-null  object\ndtypes: object(6)\nmemory usage: 4.0+ MB\nNone\n(86529, 6)\n            Year  State CoC Number                   CoC Name  \\\ncount      86529  86529      86529                      86529   \nunique        10     54        414                        414   \ntop     1/1/2015     CA     OK-501  Prince William County CoC   \nfreq       16926   8946        216                        216   \n\n                                Measures  Count  \ncount                              86529  86529  \nunique                                42   3608  \ntop     Chronically Homeless Individuals      0  \nfreq                                3999  12209  \n"
    }
   ],
   "source": [
    "# import database to be used as a companion for this course\n",
    "# Downloaded from kaggle\n",
    "# Because of windows we have to escape the file path\n",
    "import pandas as pd \n",
    "homelessness = pd.read_csv(\"C:\\\\repos\\\\data_notes\\\\databases\\\\Homelessness\\\\2007-2016-Homelessnewss-USA.csv\")\n",
    "print(homelessness.head())\n",
    "print(homelessness.info())\n",
    "print(homelessness.shape)\n",
    "print(homelessness.describe())\n"
   ]
  },
  {
   "cell_type": "code",
   "execution_count": 6,
   "metadata": {
    "tags": []
   },
   "outputs": [
    {
     "output_type": "stream",
     "name": "stdout",
     "text": "Year State CoC Number               CoC Name  \\\n4812  1/1/2007    WY     WY-500  Wyoming Statewide CoC   \n4813  1/1/2007    WY     WY-500  Wyoming Statewide CoC   \n4814  1/1/2007    WY     WY-500  Wyoming Statewide CoC   \n4815  1/1/2007    WY     WY-500  Wyoming Statewide CoC   \n4816  1/1/2007    WY     WY-500  Wyoming Statewide CoC   \n\n                                        Measures Count  \n4812            Chronically Homeless Individuals    38  \n4813                        Homeless Individuals   331  \n4814                 Homeless People in Families   206  \n4815  Sheltered Chronically Homeless Individuals     0  \n4816                          Sheltered Homeless   397  \n"
    }
   ],
   "source": [
    "# We can sort by more than one column and considering diferent directions we just need to pass a list into the argument ascending\n",
    "\n",
    "homelessness.columns\n",
    "homelessness_reg_fam = homelessness.sort_values([\"Year\", \"State\"], ascending=[True, False])\n",
    "print(homelessness_reg_fam.head())"
   ]
  },
  {
   "cell_type": "code",
   "execution_count": 3,
   "metadata": {
    "tags": []
   },
   "outputs": [
    {
     "output_type": "stream",
     "name": "stdout",
     "text": "[['1/1/2007' 'AK' 'AK-500' 'Anchorage CoC'\n  'Chronically Homeless Individuals' '224']\n ['1/1/2007' 'AK' 'AK-500' 'Anchorage CoC' 'Homeless Individuals' '696']\n ['1/1/2007' 'AK' 'AK-500' 'Anchorage CoC' 'Homeless People in Families'\n  '278']\n ...\n ['1/1/2016' 'WY' 'WY-500' 'Wyoming Statewide CoC'\n  'Unsheltered Parenting Youth (Under 25)' '3']\n ['1/1/2016' 'WY' 'WY-500' 'Wyoming Statewide CoC'\n  'Unsheltered Parenting Youth Age 18-24' '3']\n ['1/1/2016' 'WY' 'WY-500' 'Wyoming Statewide CoC'\n  'Unsheltered Parenting Youth Under 18' '0']]\nIndex(['Year', 'State', 'CoC Number', 'CoC Name', 'Measures', 'Count'], dtype='object')\nRangeIndex(start=0, stop=86529, step=1)\n"
    }
   ],
   "source": [
    "# now we extract the different components out of a dataframe\n",
    "print(homelessness.values)\n",
    "print(homelessness.columns)\n",
    "print(homelessness.index)"
   ]
  },
  {
   "cell_type": "code",
   "execution_count": 11,
   "metadata": {
    "tags": []
   },
   "outputs": [
    {
     "output_type": "stream",
     "name": "stdout",
     "text": "0              Chronically Homeless Individuals\n1                          Homeless Individuals\n2                   Homeless People in Families\n3    Sheltered Chronically Homeless Individuals\n4                            Sheltered Homeless\nName: Measures, dtype: object\n  State                                    Measures\n0    AK            Chronically Homeless Individuals\n1    AK                        Homeless Individuals\n2    AK                 Homeless People in Families\n3    AK  Sheltered Chronically Homeless Individuals\n4    AK                          Sheltered Homeless\n"
    }
   ],
   "source": [
    "# We use [] in order to select only columns that matters to us\n",
    "measures = homelessness[\"Measures\"]\n",
    "print(measures.head())\n",
    "\n",
    "# In order to select multiple columns we will need to pass a list\n",
    "state_measures = homelessness[[\"State\", \"Measures\"]]\n",
    "print(state_measures.head())"
   ]
  },
  {
   "cell_type": "code",
   "execution_count": 23,
   "metadata": {
    "tags": []
   },
   "outputs": [
    {
     "output_type": "stream",
     "name": "stdout",
     "text": "Year State CoC Number               CoC Name  \\\n1      1/1/2007    AK     AK-500          Anchorage CoC   \n4      1/1/2007    AK     AK-500          Anchorage CoC   \n5      1/1/2007    AK     AK-500          Anchorage CoC   \n7      1/1/2007    AK     AK-500          Anchorage CoC   \n8      1/1/2007    AK     AK-500          Anchorage CoC   \n...         ...   ...        ...                    ...   \n86518  1/1/2016    WY     WY-500  Wyoming Statewide CoC   \n86519  1/1/2016    WY     WY-500  Wyoming Statewide CoC   \n86523  1/1/2016    WY     WY-500  Wyoming Statewide CoC   \n86524  1/1/2016    WY     WY-500  Wyoming Statewide CoC   \n86525  1/1/2016    WY     WY-500  Wyoming Statewide CoC   \n\n                                                Measures Count  \n1                                   Homeless Individuals   696  \n4                                     Sheltered Homeless   842  \n5                         Sheltered Homeless Individuals   589  \n7                                         Total Homeless   974  \n8           Unsheltered Chronically Homeless Individuals    37  \n...                                                  ...   ...  \n86518  Unsheltered Chronically Homeless People in Fam...     7  \n86519                               Unsheltered Homeless   366  \n86523  Unsheltered Homeless Unaccompanied Young Adult...     5  \n86524  Unsheltered Homeless Unaccompanied Youth (Unde...     7  \n86525                      Unsheltered Homeless Veterans    31  \n\n[35900 rows x 6 columns]\n           Year State CoC Number               CoC Name  \\\n4815   1/1/2007    WY     WY-500  Wyoming Statewide CoC   \n4818   1/1/2007    WY     WY-500  Wyoming Statewide CoC   \n4821   1/1/2007    WY     WY-500  Wyoming Statewide CoC   \n9585   1/1/2008    WY     WY-500  Wyoming Statewide CoC   \n14354  1/1/2009    WY     WY-500  Wyoming Statewide CoC   \n...         ...   ...        ...                    ...   \n86512  1/1/2016    WY     WY-500  Wyoming Statewide CoC   \n86513  1/1/2016    WY     WY-500  Wyoming Statewide CoC   \n86521  1/1/2016    WY     WY-500  Wyoming Statewide CoC   \n86522  1/1/2016    WY     WY-500  Wyoming Statewide CoC   \n86528  1/1/2016    WY     WY-500  Wyoming Statewide CoC   \n\n                                                Measures Count  \n4815          Sheltered Chronically Homeless Individuals     0  \n4818               Sheltered Homeless People in Families   140  \n4821                                Unsheltered Homeless   140  \n9585                                Unsheltered Homeless   132  \n14354                        Homeless People in Families   175  \n...                                                  ...   ...  \n86512                Sheltered Parenting Youth Age 18-24    12  \n86513                 Sheltered Parenting Youth Under 18     0  \n86521            Unsheltered Homeless People in Families   126  \n86522  Unsheltered Homeless Unaccompanied Children (U...     2  \n86528               Unsheltered Parenting Youth Under 18     0  \n\n[70 rows x 6 columns]\n"
    }
   ],
   "source": [
    "# To filter rows we pass a boolean statement\n",
    "print(\n",
    "    homelessness[\n",
    "        homelessness[\"Count\"] > \"300\"\n",
    "        ]\n",
    "    )\n",
    "\n",
    "# We can use & and | for multiple conditions\n",
    "print(\n",
    "    homelessness[\n",
    "        (homelessness[\"State\"] == \"WY\") &\n",
    "        (homelessness[\"Count\"] < \"200\")\n",
    "    ]\n",
    ")\n"
   ]
  },
  {
   "cell_type": "code",
   "execution_count": 26,
   "metadata": {
    "tags": []
   },
   "outputs": [
    {
     "output_type": "stream",
     "name": "stdout",
     "text": "Year State CoC Number               CoC Name  \\\n0      1/1/2007    AK     AK-500          Anchorage CoC   \n1      1/1/2007    AK     AK-500          Anchorage CoC   \n2      1/1/2007    AK     AK-500          Anchorage CoC   \n3      1/1/2007    AK     AK-500          Anchorage CoC   \n4      1/1/2007    AK     AK-500          Anchorage CoC   \n...         ...   ...        ...                    ...   \n86524  1/1/2016    WY     WY-500  Wyoming Statewide CoC   \n86525  1/1/2016    WY     WY-500  Wyoming Statewide CoC   \n86526  1/1/2016    WY     WY-500  Wyoming Statewide CoC   \n86527  1/1/2016    WY     WY-500  Wyoming Statewide CoC   \n86528  1/1/2016    WY     WY-500  Wyoming Statewide CoC   \n\n                                                Measures Count  \n0                       Chronically Homeless Individuals   224  \n1                                   Homeless Individuals   696  \n2                            Homeless People in Families   278  \n3             Sheltered Chronically Homeless Individuals   187  \n4                                     Sheltered Homeless   842  \n...                                                  ...   ...  \n86524  Unsheltered Homeless Unaccompanied Youth (Unde...     7  \n86525                      Unsheltered Homeless Veterans    31  \n86526             Unsheltered Parenting Youth (Under 25)     3  \n86527              Unsheltered Parenting Youth Age 18-24     3  \n86528               Unsheltered Parenting Youth Under 18     0  \n\n[648 rows x 6 columns]\n"
    }
   ],
   "source": [
    "# In order to filtre with several categories we can use the isin method\n",
    "print(\n",
    "    homelessness[\n",
    "        homelessness[\"State\"].isin([\"WY\", \"AK\"])\n",
    "    ]\n",
    ")"
   ]
  },
  {
   "cell_type": "code",
   "execution_count": 31,
   "metadata": {
    "tags": []
   },
   "outputs": [
    {
     "output_type": "stream",
     "name": "stdout",
     "text": "State Count\n9986     CA   998\n7466     MO   998\n70574    CA   997\n35146    UT   997\n24415    NJ   995\n...     ...   ...\n1034     FL   101\n1142     FL   101\n17078    NC   101\n11414    MA   101\n39493    MD   101\n\n[3693 rows x 2 columns]\n"
    }
   ],
   "source": [
    "# combining everything\n",
    "homeless_fam = homelessness[\n",
    "    homelessness[\"Measures\"] == \"Homeless People in Families\"\n",
    "    ]\n",
    "\n",
    "high_homeless_fam = homeless_fam[\n",
    "    homeless_fam[\"Count\"] > \"100\"\n",
    "    ]\n",
    "high_homess_fam_srt = high_homeless_fam.sort_values(\"Count\", ascending= False)\n",
    "result = high_homess_fam_srt[[\"State\", \"Count\"]]\n",
    "print(result)\n"
   ]
  },
  {
   "cell_type": "code",
   "execution_count": null,
   "metadata": {},
   "outputs": [],
   "source": []
  }
 ]
}